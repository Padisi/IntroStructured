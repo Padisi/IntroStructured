{
 "cells": [
  {
   "cell_type": "markdown",
   "id": "aa6acb07",
   "metadata": {},
   "source": [
    "## Worm-Like Chain (WLC) Simulation Tutorial for UAMMD-structured"
   ]
  },
  {
   "cell_type": "markdown",
   "id": "c441fb39",
   "metadata": {},
   "source": [
    "## Introduction\n",
    "This notebook demonstrates how to create and run a simulation of polymer chains using the Worm-Like Chain (WLC) model in UAMMD-structured. The WLC model is commonly used to describe semi-flexible polymers. We'll walk through the process step-by-step, explaining each part of the simulation setup in detail."
   ]
  },
  {
   "cell_type": "markdown",
   "id": "a8ee6844",
   "metadata": {},
   "source": [
    "## Setup\n",
    "\n",
    "First, let's import the necessary libraries:"
   ]
  },
  {
   "cell_type": "code",
   "execution_count": 16,
   "id": "e789566a",
   "metadata": {},
   "outputs": [],
   "source": [
    "import os\n",
    "import numpy as np\n",
    "import pyUAMMD\n",
    "\n",
    "# os: Used for directory operations\n",
    "# numpy: Used for numerical operations and array manipulations\n",
    "# pyUAMMD: The Python interface for UAMMD-structured"
   ]
  },
  {
   "cell_type": "markdown",
   "id": "fd59b55f",
   "metadata": {},
   "source": [
    "## Simulation Parameters\n",
    "\n",
    "Here we define the key parameters for our WLC simulation:"
   ]
  },
  {
   "cell_type": "code",
   "execution_count": 24,
   "id": "4a2ad2cc",
   "metadata": {},
   "outputs": [
    {
     "name": "stdout",
     "output_type": "stream",
     "text": [
      "Creating a WLC simulation with:\n",
      " - Number of beads: 30\n",
      " - Bead diameter: 1.0\n",
      " - Box size: 32.0\n",
      " - Time step: 0.001\n",
      " - Friction constant: 1.0\n",
      " - Total number of steps: 20000\n",
      " - Bond strength (Kb): 100.0\n",
      " - Bending rigidity (Ka): 100.0\n",
      " - Output information every 1000 steps\n",
      " - Output trajectory every 10000 steps\n"
     ]
    }
   ],
   "source": [
    "# Number of beads\n",
    "nBeads = 30\n",
    "\n",
    "# Bead diameter (and bond length)\n",
    "sigma = 1.0\n",
    "\n",
    "# Calculate box size (add some extra space)\n",
    "L = nBeads*sigma + 2.0*sigma\n",
    "\n",
    "# Simulation parameters\n",
    "timeStep = 0.001\n",
    "frictionConstant = 1.0\n",
    "\n",
    "# Total number of simulation steps\n",
    "nSteps = 20000\n",
    "\n",
    "# Frequency of information output\n",
    "nStepsInfo = 1000\n",
    "\n",
    "# Frequency of trajectory output\n",
    "nStepsOutput = 10000\n",
    "\n",
    "# Force constants for bonds and angles\n",
    "Kb = 100.0  # Bond strength\n",
    "Ka = 100.0  # Angle strength (bending rigidity)\n",
    "\n",
    "print(\"Creating a WLC simulation with:\")\n",
    "print(f\" - Number of beads: {nBeads}\")\n",
    "print(f\" - Bead diameter: {sigma}\")\n",
    "print(f\" - Box size: {L}\")\n",
    "print(f\" - Time step: {timeStep}\")\n",
    "print(f\" - Friction constant: {frictionConstant}\")\n",
    "print(f\" - Total number of steps: {nSteps}\")\n",
    "print(f\" - Bond strength (Kb): {Kb}\")\n",
    "print(f\" - Bending rigidity (Ka): {Ka}\")\n",
    "print(f\" - Output information every {nStepsInfo} steps\")\n",
    "print(f\" - Output trajectory every {nStepsOutput} steps\")"
   ]
  },
  {
   "cell_type": "markdown",
   "id": "8c1fceb6",
   "metadata": {},
   "source": [
    "\n",
    "## Creating the Simulation\n",
    "\n",
    "Now, let's create our simulation object and set up its various components:"
   ]
  },
  {
   "cell_type": "code",
   "execution_count": 18,
   "id": "21845482",
   "metadata": {},
   "outputs": [],
   "source": [
    "# Initialize the simulation object\n",
    "simulation = pyUAMMD.simulation()\n",
    "\n",
    "# Set up the system information\n",
    "simulation[\"system\"] = {\n",
    "    \"info\": {\n",
    "        \"type\": [\"Simulation\", \"Information\"],\n",
    "        \"parameters\": {\"name\": \"WormLikeChain\"}\n",
    "    }\n",
    "}\n",
    "\n",
    "# Define global parameters\n",
    "simulation[\"global\"] = {\n",
    "    # Set the unit system (in this case, we're using reduced units)\n",
    "    \"units\": {\"type\": [\"Units\", \"None\"]},\n",
    "\n",
    "    # Define particle types\n",
    "    \"types\": {\n",
    "        \"type\": [\"Types\", \"Basic\"],\n",
    "        \"labels\": [\"name\", \"mass\", \"radius\", \"charge\"],\n",
    "        \"data\": [[\"A\", 1.0, sigma/2.0, 0.0]]\n",
    "    },\n",
    "\n",
    "    # Set the ensemble (NVT: constant Number of particles, Volume, and Temperature)\n",
    "    \"ensemble\": {\n",
    "        \"type\": [\"Ensemble\", \"NVT\"],\n",
    "        \"labels\": [\"box\", \"temperature\"],\n",
    "        \"data\": [[[L, L, L], 1.0]]\n",
    "    }\n",
    "}\n",
    "\n",
    "# Set up the integrator (Langevin dynamics)\n",
    "simulation[\"integrator\"] = {\n",
    "    \"bbk\": {\n",
    "        \"type\": [\"Langevin\", \"BBK\"],\n",
    "        \"parameters\": {\n",
    "            \"timeStep\": timeStep,\n",
    "            \"frictionConstant\": frictionConstant\n",
    "        }\n",
    "    },\n",
    "    # Define the integration schedule\n",
    "    \"schedule\": {\n",
    "        \"type\": [\"Schedule\", \"Integrator\"],\n",
    "        \"labels\": [\"order\", \"integrator\", \"steps\"],\n",
    "        \"data\": [[1, \"bbk\", nSteps]]\n",
    "    }\n",
    "}"
   ]
  },
  {
   "cell_type": "markdown",
   "id": "3df5fca8",
   "metadata": {},
   "source": [
    "## Initialize Particle Positions and Topology\n",
    "\n",
    "We'll place the polymer chains in the simulation box and set up the topology:"
   ]
  },
  {
   "cell_type": "code",
   "execution_count": null,
   "id": "7212acb3",
   "metadata": {},
   "outputs": [],
   "source": [
    "simulation[\"state\"] = {\n",
    "    \"labels\": [\"id\", \"position\"],\n",
    "    \"data\": []\n",
    "}\n",
    "\n",
    "simulation[\"topology\"] = {\n",
    "    \"structure\": {\n",
    "        \"labels\": [\"id\", \"type\", \"modelId\"],\n",
    "        \"data\": []\n",
    "    }\n",
    "}\n",
    "\n",
    "particleId = 0\n",
    "for j in range(int(nBeads)):\n",
    "    # Place beads along the z-axis, centered at the origin\n",
    "    simulation[\"state\"][\"data\"].append([particleId, [0.0, 0.0, sigma*j - nBeads*sigma/2.0]])\n",
    "    simulation[\"topology\"][\"structure\"][\"data\"].append([particleId, \"A\", i])\n",
    "    particleId += 1"
   ]
  },
  {
   "cell_type": "markdown",
   "id": "3c7f8d0e",
   "metadata": {},
   "source": [
    "## Define Force Field\n",
    "\n",
    "Set up the bonded interactions for our WLC model:"
   ]
  },
  {
   "cell_type": "code",
   "execution_count": null,
   "id": "193e4de2",
   "metadata": {},
   "outputs": [],
   "source": [
    "simulation[\"topology\"][\"forceField\"] = {}\n",
    "\n",
    "# Set up harmonic bonds\n",
    "simulation[\"topology\"][\"forceField\"][\"bonds\"] = {\n",
    "    \"type\": [\"Bond2\", \"Harmonic\"],\n",
    "    \"parameters\": {},\n",
    "    \"labels\": [\"id_i\", \"id_j\", \"K\", \"r0\"],\n",
    "    \"data\": []\n",
    "}\n",
    "\n",
    "particleId = 0\n",
    "for j in range(int(nBeads) - 1):\n",
    "    simulation[\"topology\"][\"forceField\"][\"bonds\"][\"data\"].append([particleId, particleId + 1, Kb, sigma])\n",
    "    particleId += 1\n",
    "\n",
    "# Set up angle interactions (Kratky-Porod potential for bending rigidity)\n",
    "simulation[\"topology\"][\"forceField\"][\"angles\"] = {\n",
    "    \"type\": [\"Bond3\", \"KratkyPorod\"],\n",
    "    \"parameters\": {},\n",
    "    \"labels\": [\"id_i\", \"id_j\", \"id_k\", \"K\"],\n",
    "    \"data\": []\n",
    "}\n",
    "\n",
    "particleId = 0\n",
    "for j in range(int(nBeads) - 2):\n",
    "    simulation[\"topology\"][\"forceField\"][\"angles\"][\"data\"].append([particleId, particleId + 1, particleId + 2, Ka])\n",
    "    particleId += 1\n"
   ]
  },
  {
   "cell_type": "markdown",
   "id": "04873c8d",
   "metadata": {},
   "source": [
    "## Configure Simulation Steps\n",
    "\n",
    "Define what operations to perform during the simulation:"
   ]
  },
  {
   "cell_type": "code",
   "execution_count": 21,
   "id": "f619f581",
   "metadata": {},
   "outputs": [],
   "source": [
    "simulation[\"simulationStep\"] = {\n",
    "    # Output simulation information periodically\n",
    "    \"info\": {\n",
    "        \"type\": [\"UtilsStep\", \"InfoStep\"],\n",
    "        \"parameters\": {\"intervalStep\": nStepsInfo}\n",
    "    },\n",
    "    # Save trajectory data periodically\n",
    "    \"output\": {\n",
    "        \"type\": [\"WriteStep\", \"WriteStep\"],\n",
    "        \"parameters\": {\n",
    "            \"intervalStep\": nStepsOutput,\n",
    "            \"outputFilePath\": \"output\",\n",
    "            \"outputFormat\": \"sp\"\n",
    "        }\n",
    "    }\n",
    "}"
   ]
  },
  {
   "cell_type": "markdown",
   "id": "6c1343f8",
   "metadata": {},
   "source": [
    "## Write the Simulation File\n",
    "\n",
    "Finally, let's write our simulation to a JSON file:"
   ]
  },
  {
   "cell_type": "code",
   "execution_count": 22,
   "id": "c222310a",
   "metadata": {},
   "outputs": [
    {
     "name": "stderr",
     "output_type": "stream",
     "text": [
      "\u001b[33;20m04/09/2025 18:02:49 - pyUAMMD - WARNING - Writing with legacy \u001b[0m\n"
     ]
    },
    {
     "name": "stdout",
     "output_type": "stream",
     "text": [
      "\n",
      "Writing simulation file...\n",
      "Simulation file created successfully!\n",
      "\n"
     ]
    }
   ],
   "source": [
    "print()\n",
    "print(\"Writing simulation file...\")\n",
    "simulation.write(\"simulation.json\")\n",
    "print(\"Simulation file created successfully!\")\n",
    "print()"
   ]
  },
  {
   "cell_type": "markdown",
   "id": "6919e099",
   "metadata": {},
   "source": [
    "## Running the Simulation\n",
    "\n",
    "To run the simulation, you would typically use the UAMMD-structured executable with the generated JSON file."
   ]
  },
  {
   "cell_type": "code",
   "execution_count": 23,
   "id": "81314731",
   "metadata": {},
   "outputs": [
    {
     "name": "stdout",
     "output_type": "stream",
     "text": [
      "\n",
      "You can run the code now using: UAMMDlauncher simulation.json\n"
     ]
    },
    {
     "name": "stderr",
     "output_type": "stream",
     "text": [
      "\u001b[34m[WARNING] \u001b[0mUAMMD-structured Python wrapper is not compatible with UAMMD-structured self restarting mechanism\n",
      "\u001b[92m[MESSAGE] \u001b[0m━━━━━━━━━━━━━━━━━━━━━━━━━━━━━━━━━━━━━━━━━━━━━━━━━━━━━━━━━━━━┓\n",
      "\u001b[92m[MESSAGE] \u001b[0m\u001b[94m╻\u001b[0m \u001b[94m╻┏━┓┏┳┓┏┳┓╺┳┓\u001b[0m\n",
      "\u001b[92m[MESSAGE] \u001b[0m\u001b[94m┃\u001b[0m \u001b[94m┃┣━┫┃┃\u001b[34m┃┃┃┃\u001b[0m \u001b[34m┃┃\u001b[0m Version: 2.5\n",
      "\u001b[92m[MESSAGE] \u001b[0m\u001b[34m┗━┛╹\u001b[0m \u001b[34m╹╹\u001b[0m \u001b[34m╹╹\u001b[0m \u001b[34m╹╺┻┛\u001b[0m\n",
      "\u001b[92m[MESSAGE] \u001b[0mCompiled at: May 30 2025 09:48:24\n",
      "\u001b[92m[MESSAGE] \u001b[0mCompiled in double precision mode\n",
      "\u001b[92m[MESSAGE] \u001b[0mComputation started at Thu Sep  4 18:02:50 2025\n",
      "\n",
      "\u001b[92m[MESSAGE] \u001b[0m[System] CUDA initialized\n",
      "\u001b[92m[MESSAGE] \u001b[0m[System] Using device: NVIDIA GeForce RTX 4070 Ti with id: 0\n",
      "\u001b[92m[MESSAGE] \u001b[0m[System] Compute capability of the device: 8.9\n",
      "\u001b[92m[MESSAGE] \u001b[0m━ ━ ━ ━ ━ ━ ━ ━ ━ ━ ━ ━ ━ ━ ━ ━ ━ ━ ━ ━ ━ ━ ━ ━ ━ ━ ━ ━ ━ \n",
      "\u001b[92m[MESSAGE] \u001b[0m[ExtendedSystem] (system) Name: WormLikeChain\n",
      "\u001b[92m[MESSAGE] \u001b[0m[ExtendedSystem] (system) Seed: 1757001770139834578\n",
      "\u001b[92m[MESSAGE] \u001b[0m[GlobalDataBase] Fundamental not specified, using default fundamental, \"Time\"\n",
      "\u001b[34m[WARNING] \u001b[0m[Time] No timeStep specified, using 0.0 as default.\n",
      "\u001b[92m[MESSAGE] \u001b[0m[Basic] Loaded type A, mass: 1.000000, radius: 0.500000, charge: 0.000000\n",
      "\u001b[92m[MESSAGE] \u001b[0m[ParticleData] Created with 3000 particles.\n",
      "\u001b[92m[MESSAGE] \u001b[0m[StateLoader] Loading property \"id\".\n",
      "\u001b[92m[MESSAGE] \u001b[0m[StateLoader] Loading property \"position\".\n",
      "\u001b[92m[MESSAGE] \u001b[0m[Topology] Loading types into particle data.\n",
      "\u001b[92m[MESSAGE] \u001b[0m[ParticleGroup] Group All created with All selector\n",
      "\u001b[92m[MESSAGE] \u001b[0m[ParticleGroup] Group All contains 3000 particles.\n",
      "\u001b[92m[MESSAGE] \u001b[0m[GroupsListFromInputEntries] Added group \"All\" with 3000 particles.\n",
      "\u001b[92m[MESSAGE] \u001b[0m[ParticleGroupFromGroupsList] No group name specified, using \"All\".\n",
      "\u001b[92m[MESSAGE] \u001b[0m[ParticleGroupFromGroupsList] Using group \"All\".\n",
      "\u001b[92m[MESSAGE] \u001b[0m[Interactor] BondsInteractor: \"angles\" created.\n",
      "\u001b[92m[MESSAGE] \u001b[0m[Interactor] Acting on group All\n",
      "\u001b[92m[MESSAGE] \u001b[0m[BondsInteractor] (angles) Particles in the bond: id_i----id_j----id_k\n",
      "\u001b[92m[MESSAGE] \u001b[0m[ParticleGroupFromGroupsList] No group name specified, using \"All\".\n",
      "\u001b[92m[MESSAGE] \u001b[0m[ParticleGroupFromGroupsList] Using group \"All\".\n",
      "\u001b[92m[MESSAGE] \u001b[0m[Interactor] BondsInteractor: \"bonds\" created.\n",
      "\u001b[92m[MESSAGE] \u001b[0m[Interactor] Acting on group All\n",
      "\u001b[92m[MESSAGE] \u001b[0m[BondsInteractor] (bonds) Particles in the bond: id_i----id_j\n",
      "\u001b[92m[MESSAGE] \u001b[0m[Topology] Added interactor \"angles\".\n",
      "\u001b[92m[MESSAGE] \u001b[0m[Topology] Added interactor \"bonds\".\n",
      "\u001b[92m[MESSAGE] \u001b[0m[Interactor] Scheduled created.\n",
      "\u001b[92m[MESSAGE] \u001b[0m[Interactor] Acting on group All\n",
      "\u001b[92m[MESSAGE] \u001b[0m[ParticleGroup] Group All created with All selector\n",
      "\u001b[92m[MESSAGE] \u001b[0m[ParticleGroup] Group All contains 3000 particles.\n",
      "\u001b[92m[MESSAGE] \u001b[0m[GroupsListFromInputEntries] Added group \"All\" with 3000 particles.\n",
      "\u001b[92m[MESSAGE] \u001b[0m[IntegratorManager] (integrator) Integrator 'bbk' will run for 20000 steps with order 1.\n",
      "\u001b[92m[MESSAGE] \u001b[0m[ParticleGroupFromGroupsList] No group name specified, using \"All\".\n",
      "\u001b[92m[MESSAGE] \u001b[0m[ParticleGroupFromGroupsList] Using group \"All\".\n",
      "\u001b[92m[MESSAGE] \u001b[0m[Integrator] bbk created.\n",
      "\u001b[92m[MESSAGE] \u001b[0m[Integrator] Acting on group All\n",
      "\u001b[92m[MESSAGE] \u001b[0m[ExtendedSystem] (system) Creating cuda stream\n",
      "\u001b[92m[MESSAGE] \u001b[0m[IntegratorBase] (bbk) Time step: 0.001000\n",
      "\u001b[92m[MESSAGE] \u001b[0m[IntegratorBase] (bbk) Current step: 0\n",
      "\u001b[92m[MESSAGE] \u001b[0m[IntegratorBaseNVT] (bbk) Temperature: 1.000000\n",
      "\u001b[92m[MESSAGE] \u001b[0m[IntegratorBaseNVT] (bbk) kBT (kB 1.000000): 1.000000\n",
      "\u001b[92m[MESSAGE] \u001b[0m[BBK] Created BBK integrator \"bbk\"\n",
      "\u001b[92m[MESSAGE] \u001b[0m[BBK] (bbk) frictionConstant : 1.000000\n",
      "\u001b[92m[MESSAGE] \u001b[0m[IntegratorUtils] Loading friction constant (1.000000) to all particles.\n",
      "\u001b[92m[MESSAGE] \u001b[0m[BBK] (bbk) stopTransRotSteps : 0\n",
      "\u001b[92m[MESSAGE] \u001b[0m[BBK] (bbk) resetVelocities : 1\n",
      "\u001b[92m[MESSAGE] \u001b[0m[IntegratorManager] (integrator) Integrator 'bbk' loaded.\n",
      "\u001b[92m[MESSAGE] \u001b[0m[ParticleGroup] Group All created with All selector\n",
      "\u001b[92m[MESSAGE] \u001b[0m[ParticleGroup] Group All contains 3000 particles.\n",
      "\u001b[92m[MESSAGE] \u001b[0m[GroupsListFromInputEntries] Added group \"All\" with 3000 particles.\n",
      "\u001b[92m[MESSAGE] \u001b[0m[ParticleGroupFromGroupsList] No group name specified, using \"All\".\n",
      "\u001b[92m[MESSAGE] \u001b[0m[ParticleGroupFromGroupsList] Using group \"All\".\n",
      "\u001b[92m[MESSAGE] \u001b[0m[SimulationStep] (info) intervalStep: 1000\n",
      "\u001b[92m[MESSAGE] \u001b[0m[ParticleGroupFromGroupsList] No group name specified, using \"All\".\n",
      "\u001b[92m[MESSAGE] \u001b[0m[ParticleGroupFromGroupsList] Using group \"All\".\n",
      "\u001b[92m[MESSAGE] \u001b[0m[SimulationStep] (output) intervalStep: 10000\n",
      "\u001b[92m[MESSAGE] \u001b[0m[WriteStep] (output) outputFilePath: output\n",
      "\u001b[92m[MESSAGE] \u001b[0m[WriteStep] (output) outputFormat: sp\n",
      "\u001b[92m[MESSAGE] \u001b[0m[WriteStep] (output) pbc: 1\n",
      "\u001b[92m[MESSAGE] \u001b[0m[WriteStep] (output) append: 0\n",
      "\u001b[92m[MESSAGE] \u001b[0m[SimulationStepManager] (simulationStep) Simulation step 'info' loaded.\n",
      "\u001b[92m[MESSAGE] \u001b[0m[SimulationStepManager] (simulationStep) Simulation step 'output' loaded.\n",
      "\u001b[92m[MESSAGE] \u001b[0m[Simulation] Running simulation...\n",
      "\u001b[92m[MESSAGE] \u001b[0m[Simulation] Running integrator (bbk), 20000 steps...\n",
      "\u001b[92m[MESSAGE] \u001b[0m[bbk] Adding Interactor Scheduled...\n",
      "\u001b[92m[MESSAGE] \u001b[0m[bbk] Adding updatable\n",
      "\u001b[92m[MESSAGE] \u001b[0m[InfoStep] (info) Total steps: 20000\n",
      "\u001b[92m[MESSAGE] \u001b[0m[BBK] Performing initialization step\n",
      "\u001b[34m[WARNING] \u001b[0m[GenerateVelocity] Velocity overwritten!\n",
      "\u001b[92m[MESSAGE] \u001b[0m[InfoStep] (info) Step 1000, ETA: d:0 h:0 m:0 s:1, mean FPS: 17710.65\n",
      "\u001b[92m[MESSAGE] \u001b[0m[InfoStep] (info) Step 2000, ETA: d:0 h:0 m:0 s:0, mean FPS: 19365.05\n",
      "\u001b[92m[MESSAGE] \u001b[0m[InfoStep] (info) Step 3000, ETA: d:0 h:0 m:0 s:0, mean FPS: 19448.16\n",
      "\u001b[92m[MESSAGE] \u001b[0m[InfoStep] (info) Step 4000, ETA: d:0 h:0 m:0 s:0, mean FPS: 19552.24\n",
      "\u001b[92m[MESSAGE] \u001b[0m[InfoStep] (info) Step 5000, ETA: d:0 h:0 m:0 s:0, mean FPS: 19561.73\n",
      "\u001b[92m[MESSAGE] \u001b[0m[InfoStep] (info) Step 6000, ETA: d:0 h:0 m:0 s:0, mean FPS: 19563.05\n",
      "\u001b[92m[MESSAGE] \u001b[0m[InfoStep] (info) Step 7000, ETA: d:0 h:0 m:0 s:0, mean FPS: 20160.04\n",
      "\u001b[92m[MESSAGE] \u001b[0m[InfoStep] (info) Step 8000, ETA: d:0 h:0 m:0 s:0, mean FPS: 20584.84\n",
      "\u001b[92m[MESSAGE] \u001b[0m[InfoStep] (info) Step 9000, ETA: d:0 h:0 m:0 s:0, mean FPS: 20617.23\n",
      "\u001b[92m[MESSAGE] \u001b[0m[InfoStep] (info) Step 10000, ETA: d:0 h:0 m:0 s:0, mean FPS: 20592.10\n",
      "\u001b[92m[MESSAGE] \u001b[0m[InfoStep] (info) Step 11000, ETA: d:0 h:0 m:0 s:0, mean FPS: 18885.85\n",
      "\u001b[92m[MESSAGE] \u001b[0m[InfoStep] (info) Step 12000, ETA: d:0 h:0 m:0 s:0, mean FPS: 20648.49\n",
      "\u001b[92m[MESSAGE] \u001b[0m[InfoStep] (info) Step 13000, ETA: d:0 h:0 m:0 s:0, mean FPS: 20641.60\n",
      "\u001b[92m[MESSAGE] \u001b[0m[InfoStep] (info) Step 14000, ETA: d:0 h:0 m:0 s:0, mean FPS: 20531.74\n",
      "\u001b[92m[MESSAGE] \u001b[0m[InfoStep] (info) Step 15000, ETA: d:0 h:0 m:0 s:0, mean FPS: 20651.00\n",
      "\u001b[92m[MESSAGE] \u001b[0m[InfoStep] (info) Step 16000, ETA: d:0 h:0 m:0 s:0, mean FPS: 20647.35\n",
      "\u001b[92m[MESSAGE] \u001b[0m[InfoStep] (info) Step 17000, ETA: d:0 h:0 m:0 s:0, mean FPS: 20647.74\n",
      "\u001b[92m[MESSAGE] \u001b[0m[InfoStep] (info) Step 18000, ETA: d:0 h:0 m:0 s:0, mean FPS: 20650.71\n",
      "\u001b[92m[MESSAGE] \u001b[0m[InfoStep] (info) Step 19000, ETA: d:0 h:0 m:0 s:0, mean FPS: 20648.26\n",
      "\u001b[92m[MESSAGE] \u001b[0m[Simulation] Mean FPS: 20051.422865\n",
      "\u001b[92m[MESSAGE] \u001b[0m━ ━ ━ ━ ━ ━ ━ ━ ━ ━ ━ ━ ━ ━ ━ ━ ━ ━ ━ ━ ━ ━ ━ ━ ━ ━ ━ ━ ━ \n",
      "\u001b[92m[MESSAGE] \u001b[0m[ExtendedSystem] (system) Destroying cuda stream\n",
      "\u001b[92m[MESSAGE] \u001b[0mComputation finished at Thu Sep  4 18:02:51 2025\n",
      "\n",
      "\u001b[92m[MESSAGE] \u001b[0mTime elapsed since creation: 1.023476s\n",
      "\u001b[92m[MESSAGE] \u001b[0m━━━━━━━━━━━━━━━━━━━━━━━━━━━━━━━━━━━━━━━━━━━━━━━━━━━━━━━━━━━━┛\n"
     ]
    }
   ],
   "source": [
    "print()\n",
    "print(\"You can run the code now using: UAMMDlauncher simulation.json\")\n",
    "simulation.run()"
   ]
  },
  {
   "cell_type": "markdown",
   "id": "c01e2b76",
   "metadata": {},
   "source": [
    "## Conclusion\n",
    "\n",
    "This tutorial demonstrated how to set up and prepare a simulation of Worm-Like Chains using UAMMD-structured. We covered:\n",
    "1. Defining simulation parameters, including polymer-specific parameters\n",
    "3. Creating the simulation object\n",
    "4. Setting up the system, global parameters, and integrator\n",
    "5. Initializing particle positions and topology for multiple polymer chains\n",
    "6. Configuring the simulation topology and force field, including bonded and angle interactions\n",
    "7. Setting up simulation steps for output\n",
    "8. Writing the simulation file\n",
    "9. Running the simulation\n",
    "\n",
    "Next steps could include:\n",
    "- Analyzing the output trajectory\n",
    "- Visualizing the polymer chains\n",
    "- Calculating polymer properties such as end-to-end distance or radius of gyration\n",
    "- Modifying the simulation parameters to explore different polymer lengths, stiffnesses, or environmental conditions"
   ]
  }
 ],
 "metadata": {
  "kernelspec": {
   "display_name": "uammd_structured",
   "language": "python",
   "name": "python3"
  },
  "language_info": {
   "codemirror_mode": {
    "name": "ipython",
    "version": 3
   },
   "file_extension": ".py",
   "mimetype": "text/x-python",
   "name": "python",
   "nbconvert_exporter": "python",
   "pygments_lexer": "ipython3",
   "version": "3.12.11"
  }
 },
 "nbformat": 4,
 "nbformat_minor": 5
}
